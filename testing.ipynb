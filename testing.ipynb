{
 "cells": [
  {
   "cell_type": "code",
   "execution_count": 45,
   "metadata": {},
   "outputs": [],
   "source": [
    "import psycopg2\n",
    "import pandas as pd\n",
    "host = \"host.docker.internal\"\n",
    "dbname = \"postgres\"\n",
    "user = \"postgres\"\n",
    "password = \"Newpassword\"\n",
    "port = \"5432\"\n",
    "\n",
    "conn = psycopg2.connect(\n",
    "    host=host,\n",
    "    dbname=dbname,\n",
    "    user=user,\n",
    "    password=password,\n",
    "    port=port\n",
    ")\n",
    "\n",
    "cur = conn.cursor()\n",
    "\n",
    "\n",
    "conn.commit()"
   ]
  },
  {
   "cell_type": "code",
   "execution_count": 46,
   "metadata": {},
   "outputs": [
    {
     "name": "stderr",
     "output_type": "stream",
     "text": [
      "/tmp/ipykernel_16218/85292573.py:2: UserWarning: pandas only supports SQLAlchemy connectable (engine/connection) or database string URI or sqlite3 DBAPI2 connection. Other DBAPI2 objects are not tested. Please consider using SQLAlchemy.\n",
      "  df = pd.read_sql(query, conn)\n"
     ]
    },
    {
     "name": "stdout",
     "output_type": "stream",
     "text": [
      "<class 'pandas.core.frame.DataFrame'>\n",
      "RangeIndex: 386061 entries, 0 to 386060\n",
      "Data columns (total 8 columns):\n",
      " #   Column         Non-Null Count   Dtype \n",
      "---  ------         --------------   ----- \n",
      " 0   Vluchtid       386061 non-null  object\n",
      " 1   Vliegtuigcode  386061 non-null  object\n",
      " 2   Terminal       385961 non-null  object\n",
      " 3   Gate           326100 non-null  object\n",
      " 4   Baan           386059 non-null  object\n",
      " 5   Bezetting      329475 non-null  object\n",
      " 6   Vracht         49967 non-null   object\n",
      " 7   Aankomsttijd   382688 non-null  object\n",
      "dtypes: object(8)\n",
      "memory usage: 23.6+ MB\n",
      "None\n",
      "       Vluchtid Vliegtuigcode Terminal    Gate    Baan Bezetting Vracht  \\\n",
      "count    386061        386061   385961  326100  386059    329475  49967   \n",
      "unique   386061           424        7      30       6        56     49   \n",
      "top      935998        VFR735        C      C1       4        86     38   \n",
      "freq          1          2922   107109   20475  208209     18949   1716   \n",
      "\n",
      "               Aankomsttijd  \n",
      "count                382688  \n",
      "unique               341707  \n",
      "top     2017-02-05 11:37:00  \n",
      "freq                      6  \n",
      "-------------\n",
      "Vluchtid              0\n",
      "Vliegtuigcode         0\n",
      "Terminal            100\n",
      "Gate              59961\n",
      "Baan                  2\n",
      "Bezetting         56586\n",
      "Vracht           336094\n",
      "Aankomsttijd       3373\n",
      "dtype: int64\n",
      "0\n"
     ]
    }
   ],
   "source": [
    "query = 'SELECT * FROM raw.aankomst'\n",
    "df = pd.read_sql(query, conn)\n",
    "\n",
    "# Display the first few rows\n",
    "df.head()\n",
    "\n",
    "# Basic profiling\n",
    "print(df.info())\n",
    "print(df.describe())\n",
    "print(\"-------------\")\n",
    "print(df.isnull().sum())\n",
    "print(df.duplicated().sum())"
   ]
  },
  {
   "cell_type": "code",
   "execution_count": 47,
   "metadata": {},
   "outputs": [],
   "source": [
    "query = '''\n",
    "SELECT *\n",
    "FROM raw.aankomst a\n",
    "WHERE a.\"Vracht\" IS NULL AND a.\"Bezetting\" IS NULL;\n",
    "\n",
    "'''"
   ]
  },
  {
   "cell_type": "code",
   "execution_count": 49,
   "metadata": {},
   "outputs": [
    {
     "name": "stdout",
     "output_type": "stream",
     "text": [
      "       Vluchtid Vliegtuigcode Terminal Gate  Baan Bezetting Vracht  \\\n",
      "count      6619          6619     6619    0  6619         0      0   \n",
      "unique     6619           123        1    0     1         0      0   \n",
      "top      936045         VG218        G  NaN     6       NaN    NaN   \n",
      "freq          1            72     6619  NaN  6619       NaN    NaN   \n",
      "\n",
      "               Aankomsttijd  \n",
      "count                  6619  \n",
      "unique                 6602  \n",
      "top     2014-03-20 16:05:00  \n",
      "freq                      2  \n"
     ]
    },
    {
     "name": "stderr",
     "output_type": "stream",
     "text": [
      "/tmp/ipykernel_16218/3668641018.py:3: UserWarning: pandas only supports SQLAlchemy connectable (engine/connection) or database string URI or sqlite3 DBAPI2 connection. Other DBAPI2 objects are not tested. Please consider using SQLAlchemy.\n",
      "  df = pd.read_sql(query, conn)\n"
     ]
    }
   ],
   "source": [
    "cur.execute(query)\n",
    "\n",
    "df = pd.read_sql(query, conn)\n",
    "\n",
    "print(df.describe())"
   ]
  }
 ],
 "metadata": {
  "kernelspec": {
   "display_name": "Python 3",
   "language": "python",
   "name": "python3"
  },
  "language_info": {
   "codemirror_mode": {
    "name": "ipython",
    "version": 3
   },
   "file_extension": ".py",
   "mimetype": "text/x-python",
   "name": "python",
   "nbconvert_exporter": "python",
   "pygments_lexer": "ipython3",
   "version": "3.12.2"
  }
 },
 "nbformat": 4,
 "nbformat_minor": 2
}
