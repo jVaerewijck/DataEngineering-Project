{
 "cells": [
  {
   "cell_type": "code",
   "execution_count": 2,
   "metadata": {},
   "outputs": [],
   "source": [
    "import psycopg2\n",
    "import pandas as pd\n",
    "host = \"host.docker.internal\"\n",
    "dbname = \"postgres\"\n",
    "user = \"postgres\"\n",
    "password = \"Newpassword\"\n",
    "port = \"5432\"\n",
    "\n",
    "conn = psycopg2.connect(\n",
    "    host=host,\n",
    "    dbname=dbname,\n",
    "    user=user,\n",
    "    password=password,\n",
    "    port=port\n",
    ")\n",
    "\n",
    "cur = conn.cursor()\n"
   ]
  },
  {
   "cell_type": "code",
   "execution_count": 3,
   "metadata": {},
   "outputs": [
    {
     "name": "stderr",
     "output_type": "stream",
     "text": [
      "/tmp/ipykernel_600/2641055107.py:7: UserWarning: pandas only supports SQLAlchemy connectable (engine/connection) or database string URI or sqlite3 DBAPI2 connection. Other DBAPI2 objects are not tested. Please consider using SQLAlchemy.\n",
      "  df_original = pd.read_sql(query, conn)\n"
     ]
    },
    {
     "name": "stdout",
     "output_type": "stream",
     "text": [
      "Dropped rows:\n",
      "   Vluchtid Vliegtuigcode Terminal  Gate Baan Bezetting Vracht  \\\n",
      "26   936045          VG50        G  None    6      None   None   \n",
      "51   936098         VG171        G  None    6      None   None   \n",
      "57   936110         VG162        G  None    6      None   None   \n",
      "67   936127          VG97        G  None    6      None   None   \n",
      "77   936150          VG79        G  None    6      None   None   \n",
      "\n",
      "           Aankomsttijd  \n",
      "26  2014-01-01 06:55:00  \n",
      "51  2014-01-01 08:51:00  \n",
      "57  2014-01-01 09:30:00  \n",
      "67  2014-01-01 10:04:00  \n",
      "77  2014-01-01 10:56:00  \n",
      "Cleaned DataFrame:\n",
      "  Vluchtid Vliegtuigcode Terminal Gate Baan Bezetting Vracht  \\\n",
      "0   935998        VFR735        A   A1    1        45   None   \n",
      "1   936001        VHV303        A   A2    1        62   None   \n",
      "2   936009        VKL301        C   C1    1        58   None   \n",
      "3   936012        VTK505        B   B5    1        67   None   \n",
      "4   936013        VKL859        C   C2    1        71   None   \n",
      "\n",
      "          Aankomsttijd  \n",
      "0  2014-01-01 03:53:00  \n",
      "1  2014-01-01 04:15:00  \n",
      "2  2014-01-01 04:38:00  \n",
      "3  2014-01-01 04:43:00  \n",
      "4  2014-01-01 04:54:00  \n"
     ]
    }
   ],
   "source": [
    "query = '''\n",
    "SELECT *\n",
    "FROM raw.aankomst;\n",
    "'''\n",
    "\n",
    "# Load the data into a DataFrame\n",
    "df_original = pd.read_sql(query, conn)\n",
    "\n",
    "# Filter the DataFrame to identify rows where Vracht and Bezetting are NULL\n",
    "df_dropped = df_original[(df_original['Vracht'].isnull()) & (df_original['Bezetting'].isnull())]\n",
    "\n",
    "# Filter the original DataFrame to remove the rows where Vracht and Bezetting are NULL\n",
    "df_cleaned = df_original.drop(df_dropped.index)\n",
    "\n",
    "# Display the filtered DataFrames for verification\n",
    "print(\"Dropped rows:\")\n",
    "print(df_dropped.head())\n",
    "\n",
    "print(\"Cleaned DataFrame:\")\n",
    "print(df_cleaned.head())"
   ]
  },
  {
   "cell_type": "code",
   "execution_count": null,
   "metadata": {},
   "outputs": [],
   "source": []
  },
  {
   "cell_type": "code",
   "execution_count": null,
   "metadata": {},
   "outputs": [],
   "source": []
  }
 ],
 "metadata": {
  "kernelspec": {
   "display_name": "Python 3",
   "language": "python",
   "name": "python3"
  },
  "language_info": {
   "codemirror_mode": {
    "name": "ipython",
    "version": 3
   },
   "file_extension": ".py",
   "mimetype": "text/x-python",
   "name": "python",
   "nbconvert_exporter": "python",
   "pygments_lexer": "ipython3",
   "version": "3.12.2"
  }
 },
 "nbformat": 4,
 "nbformat_minor": 2
}
