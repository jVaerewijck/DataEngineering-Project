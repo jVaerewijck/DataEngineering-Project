{
 "cells": [
  {
   "cell_type": "code",
   "execution_count": 1,
   "metadata": {},
   "outputs": [],
   "source": [
    "import psycopg2\n",
    "import pandas as pd\n",
    "host = \"host.docker.internal\"\n",
    "dbname = \"postgres\"\n",
    "user = \"postgres\"\n",
    "password = \"Newpassword\"\n",
    "port = \"5432\"\n",
    "\n",
    "conn = psycopg2.connect(\n",
    "    host=host,\n",
    "    dbname=dbname,\n",
    "    user=user,\n",
    "    password=password,\n",
    "    port=port\n",
    ")\n",
    "\n",
    "cur = conn.cursor()\n"
   ]
  },
  {
   "cell_type": "markdown",
   "metadata": {},
   "source": [
    "Aankomst"
   ]
  },
  {
   "cell_type": "code",
   "execution_count": 2,
   "metadata": {},
   "outputs": [
    {
     "name": "stderr",
     "output_type": "stream",
     "text": [
      "/tmp/ipykernel_84625/1781718487.py:6: UserWarning: pandas only supports SQLAlchemy connectable (engine/connection) or database string URI or sqlite3 DBAPI2 connection. Other DBAPI2 objects are not tested. Please consider using SQLAlchemy.\n",
      "  df = pd.read_sql(query, conn)\n"
     ]
    },
    {
     "name": "stdout",
     "output_type": "stream",
     "text": [
      "<class 'pandas.core.frame.DataFrame'>\n",
      "RangeIndex: 386061 entries, 0 to 386060\n",
      "Data columns (total 8 columns):\n",
      " #   Column         Non-Null Count   Dtype \n",
      "---  ------         --------------   ----- \n",
      " 0   Vluchtid       386061 non-null  object\n",
      " 1   Vliegtuigcode  386061 non-null  object\n",
      " 2   Terminal       385961 non-null  object\n",
      " 3   Gate           326100 non-null  object\n",
      " 4   Baan           386059 non-null  object\n",
      " 5   Bezetting      329475 non-null  object\n",
      " 6   Vracht         49967 non-null   object\n",
      " 7   Aankomsttijd   382688 non-null  object\n",
      "dtypes: object(8)\n",
      "memory usage: 23.6+ MB\n",
      "None\n",
      "       Vluchtid Vliegtuigcode Terminal    Gate    Baan Bezetting Vracht  \\\n",
      "count    386061        386061   385961  326100  386059    329475  49967   \n",
      "unique   386061           424        7      30       6        56     49   \n",
      "top      935998        VFR735        C      C1       4        86     38   \n",
      "freq          1          2922   107109   20475  208209     18949   1716   \n",
      "\n",
      "               Aankomsttijd  \n",
      "count                382688  \n",
      "unique               341707  \n",
      "top     2017-02-05 11:37:00  \n",
      "freq                      6  \n",
      "Vluchtid              0\n",
      "Vliegtuigcode         0\n",
      "Terminal            100\n",
      "Gate              59961\n",
      "Baan                  2\n",
      "Bezetting         56586\n",
      "Vracht           336094\n",
      "Aankomsttijd       3373\n",
      "dtype: int64\n",
      "0\n"
     ]
    }
   ],
   "source": [
    "query = '''\n",
    "SELECT *\n",
    "FROM raw_1.aankomst;\n",
    "'''\n",
    "\n",
    "df = pd.read_sql(query, conn)\n",
    "\n",
    "\n",
    "print(df.info())\n",
    "print(df.describe())\n",
    "print(df.isnull().sum())\n",
    "print(df.duplicated().sum())"
   ]
  },
  {
   "cell_type": "code",
   "execution_count": 3,
   "metadata": {},
   "outputs": [
    {
     "name": "stderr",
     "output_type": "stream",
     "text": [
      "/tmp/ipykernel_84625/1383076265.py:6: UserWarning: pandas only supports SQLAlchemy connectable (engine/connection) or database string URI or sqlite3 DBAPI2 connection. Other DBAPI2 objects are not tested. Please consider using SQLAlchemy.\n",
      "  df_original = pd.read_sql(query, conn)\n"
     ]
    },
    {
     "name": "stdout",
     "output_type": "stream",
     "text": [
      "Dropped rows:\n",
      "   Vluchtid Vliegtuigcode Terminal  Gate Baan Bezetting Vracht  \\\n",
      "26   936045          VG50        G  None    6      None   None   \n",
      "51   936098         VG171        G  None    6      None   None   \n",
      "57   936110         VG162        G  None    6      None   None   \n",
      "67   936127          VG97        G  None    6      None   None   \n",
      "77   936150          VG79        G  None    6      None   None   \n",
      "\n",
      "           Aankomsttijd  \n",
      "26  2014-01-01 06:55:00  \n",
      "51  2014-01-01 08:51:00  \n",
      "57  2014-01-01 09:30:00  \n",
      "67  2014-01-01 10:04:00  \n",
      "77  2014-01-01 10:56:00  \n",
      "Cleaned DataFrame:\n",
      "  Vluchtid Vliegtuigcode Terminal Gate Baan Bezetting Vracht  \\\n",
      "0   935998        VFR735        A   A1    1        45   None   \n",
      "1   936001        VHV303        A   A2    1        62   None   \n",
      "2   936009        VKL301        C   C1    1        58   None   \n",
      "3   936012        VTK505        B   B5    1        67   None   \n",
      "4   936013        VKL859        C   C2    1        71   None   \n",
      "\n",
      "          Aankomsttijd  \n",
      "0  2014-01-01 03:53:00  \n",
      "1  2014-01-01 04:15:00  \n",
      "2  2014-01-01 04:38:00  \n",
      "3  2014-01-01 04:43:00  \n",
      "4  2014-01-01 04:54:00  \n"
     ]
    }
   ],
   "source": [
    "query = '''\n",
    "SELECT *\n",
    "FROM raw_1.aankomst;\n",
    "'''\n",
    "\n",
    "df_original = pd.read_sql(query, conn)\n",
    "\n",
    "df_dropped = df_original[(df_original['Vracht'].isnull()) & (df_original['Bezetting'].isnull())]\n",
    "\n",
    "df_cleaned = df_original.drop(df_dropped.index)\n",
    "\n",
    "print(\"Dropped rows:\")\n",
    "print(df_dropped.head())\n",
    "\n",
    "print(\"Cleaned DataFrame:\")\n",
    "print(df_cleaned.head())"
   ]
  },
  {
   "cell_type": "markdown",
   "metadata": {},
   "source": [
    "Klant"
   ]
  },
  {
   "cell_type": "code",
   "execution_count": 4,
   "metadata": {},
   "outputs": [
    {
     "name": "stderr",
     "output_type": "stream",
     "text": [
      "/tmp/ipykernel_84625/1069304493.py:6: UserWarning: pandas only supports SQLAlchemy connectable (engine/connection) or database string URI or sqlite3 DBAPI2 connection. Other DBAPI2 objects are not tested. Please consider using SQLAlchemy.\n",
      "  df = pd.read_sql(query, conn)\n",
      "/tmp/ipykernel_84625/1069304493.py:7: UserWarning: pandas only supports SQLAlchemy connectable (engine/connection) or database string URI or sqlite3 DBAPI2 connection. Other DBAPI2 objects are not tested. Please consider using SQLAlchemy.\n",
      "  df_info = pd.read_sql('SELECT * FROM raw_1.klant', conn)\n",
      "/tmp/ipykernel_84625/1069304493.py:8: UserWarning: pandas only supports SQLAlchemy connectable (engine/connection) or database string URI or sqlite3 DBAPI2 connection. Other DBAPI2 objects are not tested. Please consider using SQLAlchemy.\n",
      "  df_ids = pd.read_sql('SELECT \"Vluchtid\" FROM raw_1.vlucht', conn)\n"
     ]
    },
    {
     "name": "stdout",
     "output_type": "stream",
     "text": [
      "<class 'pandas.core.frame.DataFrame'>\n",
      "RangeIndex: 772512 entries, 0 to 772511\n",
      "Data columns (total 4 columns):\n",
      " #   Column        Non-Null Count   Dtype \n",
      "---  ------        --------------   ----- \n",
      " 0   Vluchtid      772512 non-null  object\n",
      " 1   Operatie      2110 non-null    object\n",
      " 2   Faciliteiten  2110 non-null    object\n",
      " 3   Shops         1845 non-null    object\n",
      "dtypes: object(4)\n",
      "memory usage: 23.6+ MB\n",
      "None\n",
      "       Vluchtid Operatie Faciliteiten Shops\n",
      "count    772512     2110         2110  1845\n",
      "unique   772512       47           69    48\n",
      "top      935992      7.3          7.6     6\n",
      "freq          1      143           67   100\n",
      "Vluchtid             0\n",
      "Operatie        770402\n",
      "Faciliteiten    770402\n",
      "Shops           770667\n",
      "dtype: int64\n",
      "0\n",
      "  Vluchtid Operatie Faciliteiten Shops\n",
      "0   935992      NaN          NaN   NaN\n",
      "1   935993      NaN          NaN   NaN\n",
      "2   935994      NaN          NaN   NaN\n",
      "3   935995      NaN          NaN   NaN\n",
      "4   935996      NaN          NaN   NaN\n"
     ]
    }
   ],
   "source": [
    "query = '''\n",
    "SELECT *\n",
    "FROM raw_1.klant;\n",
    "'''\n",
    "\n",
    "df = pd.read_sql(query, conn)\n",
    "df_info = pd.read_sql('SELECT * FROM raw_1.klant', conn)\n",
    "df_ids = pd.read_sql('SELECT \"Vluchtid\" FROM raw_1.vlucht', conn)\n",
    "result_df = pd.merge(df_ids, df_info, on='Vluchtid', how='left')\n",
    "print(result_df.info())\n",
    "print(result_df.describe())\n",
    "print(result_df.isnull().sum())\n",
    "print(result_df.duplicated().sum())\n",
    "print(result_df.head())"
   ]
  },
  {
   "cell_type": "markdown",
   "metadata": {},
   "source": [
    "Luchthaven"
   ]
  },
  {
   "cell_type": "code",
   "execution_count": 5,
   "metadata": {},
   "outputs": [
    {
     "name": "stdout",
     "output_type": "stream",
     "text": [
      "<class 'pandas.core.frame.DataFrame'>\n",
      "RangeIndex: 8107 entries, 0 to 8106\n",
      "Data columns (total 11 columns):\n",
      " #   Column   Non-Null Count  Dtype \n",
      "---  ------   --------------  ----- \n",
      " 0   Airport  8107 non-null   object\n",
      " 1   City     8107 non-null   object\n",
      " 2   Country  8107 non-null   object\n",
      " 3   IATA     5880 non-null   object\n",
      " 4   ICAO     8043 non-null   object\n",
      " 5   Lat      8107 non-null   object\n",
      " 6   Lon      8107 non-null   object\n",
      " 7   Alt      8107 non-null   object\n",
      " 8   TZ       8107 non-null   object\n",
      " 9   DST      8107 non-null   object\n",
      " 10  Tz       8107 non-null   object\n",
      "dtypes: object(11)\n",
      "memory usage: 696.8+ KB\n",
      "None\n",
      "          Airport    City        Country  IATA  ICAO        Lat   Lon   Alt  \\\n",
      "count        8107    8107           8107  5880  8043       8107  8107  8107   \n",
      "unique       7908    6977            240  5878  6782       7985  7987  2416   \n",
      "top     North Sea  London  United States   ZYA    \\N  30.524819     1     0   \n",
      "freq           16      21           1697     2  1258          4     4   584   \n",
      "\n",
      "          TZ   DST                Tz  \n",
      "count   8107  8107              8107  \n",
      "unique    38     7               294  \n",
      "top        1     U  America/New_York  \n",
      "freq    1390  2195               628  \n",
      "Airport       0\n",
      "City          0\n",
      "Country       0\n",
      "IATA       2227\n",
      "ICAO         64\n",
      "Lat           0\n",
      "Lon           0\n",
      "Alt           0\n",
      "TZ            0\n",
      "DST           0\n",
      "Tz            0\n",
      "dtype: int64\n",
      "29\n"
     ]
    },
    {
     "name": "stderr",
     "output_type": "stream",
     "text": [
      "/tmp/ipykernel_84625/2102288786.py:6: UserWarning: pandas only supports SQLAlchemy connectable (engine/connection) or database string URI or sqlite3 DBAPI2 connection. Other DBAPI2 objects are not tested. Please consider using SQLAlchemy.\n",
      "  df = pd.read_sql(query, conn)\n"
     ]
    }
   ],
   "source": [
    "query = '''\n",
    "SELECT *\n",
    "FROM raw_1.luchthavens;\n",
    "'''\n",
    "\n",
    "df = pd.read_sql(query, conn)\n",
    "\n",
    "\n",
    "print(df.info())\n",
    "print(df.describe())\n",
    "print(df.isnull().sum())\n",
    "print(df.duplicated().sum())"
   ]
  },
  {
   "cell_type": "code",
   "execution_count": 6,
   "metadata": {},
   "outputs": [
    {
     "name": "stdout",
     "output_type": "stream",
     "text": [
      "Dropped rows:\n",
      "         Airport          City      Country  IATA  ICAO        Lat        Lon  \\\n",
      "1  Camp Bastion   Camp Bastion  Afghanistan  None  OAZI  31.865556  64.195278   \n",
      "\n",
      "    Alt   TZ DST          Tz  \n",
      "1  2808  4.5   N  Asia/Kabul  \n",
      "Cleaned DataFrame:\n",
      "               Airport         City      Country IATA  ICAO        Lat  \\\n",
      "0       Bamyan Airport       Bamyan  Afghanistan  BIN  OABN  34.816667   \n",
      "2  Chaghcharan Airport  Chaghcharan  Afghanistan  CCN  OACC  34.526667   \n",
      "3     Faizabad Airport     Faizabad  Afghanistan  FBD  OAFZ    37.1211   \n",
      "4                Herat        Herat  Afghanistan  HEA  OAHR  34.210017   \n",
      "5            Jalalabad    Jalalabad  Afghanistan  JAA  OAJL  34.399842   \n",
      "\n",
      "         Lon   Alt   TZ DST          Tz  \n",
      "0  67.816667  2550  4.5   N  Asia/Kabul  \n",
      "2  65.271667  7383  4.5   U  Asia/Kabul  \n",
      "3    70.5181  3872  4.5   U  Asia/Kabul  \n",
      "4    62.2283  3206  4.5   U  Asia/Kabul  \n",
      "5  70.498625  1814  4.5   U  Asia/Kabul  \n"
     ]
    },
    {
     "name": "stderr",
     "output_type": "stream",
     "text": [
      "/tmp/ipykernel_84625/1918566129.py:6: UserWarning: pandas only supports SQLAlchemy connectable (engine/connection) or database string URI or sqlite3 DBAPI2 connection. Other DBAPI2 objects are not tested. Please consider using SQLAlchemy.\n",
      "  df_original = pd.read_sql(query, conn)\n"
     ]
    }
   ],
   "source": [
    "query = '''\n",
    "SELECT *\n",
    "FROM raw_1.luchthavens;\n",
    "'''\n",
    "\n",
    "df_original = pd.read_sql(query, conn)\n",
    "\n",
    "df_dropped = df_original[(df_original['IATA'].isnull())]\n",
    "df_dropped = df_dropped.drop_duplicates(subset=['IATA'])\n",
    "\n",
    "\n",
    "df_cleaned = df_original.drop(df_dropped.index)\n",
    "\n",
    "print(\"Dropped rows:\")\n",
    "print(df_dropped.head())\n",
    "\n",
    "print(\"Cleaned DataFrame:\")\n",
    "print(df_cleaned.head())"
   ]
  },
  {
   "cell_type": "markdown",
   "metadata": {},
   "source": [
    "maatschapijen"
   ]
  },
  {
   "cell_type": "code",
   "execution_count": 7,
   "metadata": {},
   "outputs": [
    {
     "name": "stdout",
     "output_type": "stream",
     "text": [
      "<class 'pandas.core.frame.DataFrame'>\n",
      "RangeIndex: 1166 entries, 0 to 1165\n",
      "Data columns (total 3 columns):\n",
      " #   Column  Non-Null Count  Dtype \n",
      "---  ------  --------------  ----- \n",
      " 0   Name    1166 non-null   object\n",
      " 1   IATA    964 non-null    object\n",
      " 2   ICAO    1137 non-null   object\n",
      "dtypes: object(3)\n",
      "memory usage: 27.5+ KB\n",
      "None\n",
      "          Name IATA  ICAO\n",
      "count     1166  964  1137\n",
      "unique    1160  933  1006\n",
      "top     Comair   G3    \\N\n",
      "freq         2    3   118\n",
      "Name      0\n",
      "IATA    202\n",
      "ICAO     29\n",
      "dtype: int64\n",
      "0\n"
     ]
    },
    {
     "name": "stderr",
     "output_type": "stream",
     "text": [
      "/tmp/ipykernel_84625/849084060.py:6: UserWarning: pandas only supports SQLAlchemy connectable (engine/connection) or database string URI or sqlite3 DBAPI2 connection. Other DBAPI2 objects are not tested. Please consider using SQLAlchemy.\n",
      "  df = pd.read_sql(query, conn)\n"
     ]
    }
   ],
   "source": [
    "query = '''\n",
    "SELECT *\n",
    "FROM raw_1.maatschappijen;\n",
    "'''\n",
    "\n",
    "df = pd.read_sql(query, conn)\n",
    "\n",
    "\n",
    "print(df.info())\n",
    "print(df.describe())\n",
    "print(df.isnull().sum())\n",
    "print(df.duplicated().sum())"
   ]
  },
  {
   "cell_type": "code",
   "execution_count": 8,
   "metadata": {},
   "outputs": [
    {
     "name": "stdout",
     "output_type": "stream",
     "text": [
      "Dropped rows:\n",
      "                        Name  IATA ICAO\n",
      "583        Al-Naser Airlines  None   \\N\n",
      "965  ConneX European Airline  None  2CO\n",
      "966     Aerolineas Africanas  None  AA1\n",
      "967               Copterline  None  AAQ\n",
      "968            ACES Colombia  None  AES\n",
      "Cleaned DataFrame:\n",
      "                     Name IATA  ICAO\n",
      "0          Private flight    -  None\n",
      "1                 Unknown    -  None\n",
      "2             ELK Airways   --   ELK\n",
      "3  Tom\\\\'s & co airliners   &T   T&O\n",
      "4          Wilderness Air   ;;    \\N\n"
     ]
    },
    {
     "name": "stderr",
     "output_type": "stream",
     "text": [
      "/tmp/ipykernel_84625/3978819632.py:6: UserWarning: pandas only supports SQLAlchemy connectable (engine/connection) or database string URI or sqlite3 DBAPI2 connection. Other DBAPI2 objects are not tested. Please consider using SQLAlchemy.\n",
      "  df_original = pd.read_sql(query, conn)\n"
     ]
    }
   ],
   "source": [
    "query = '''\n",
    "SELECT *\n",
    "FROM raw_1.maatschappijen;\n",
    "'''\n",
    "\n",
    "df_original = pd.read_sql(query, conn)\n",
    "\n",
    "df_dropped = df_original[(df_original['IATA'].isnull())]\n",
    "\n",
    "df_cleaned = df_original.drop(df_dropped.index)\n",
    "\n",
    "print(\"Dropped rows:\")\n",
    "print(df_dropped.head())\n",
    "\n",
    "print(\"Cleaned DataFrame:\")\n",
    "print(df_cleaned.head())"
   ]
  },
  {
   "cell_type": "markdown",
   "metadata": {},
   "source": [
    "planning"
   ]
  },
  {
   "cell_type": "code",
   "execution_count": 9,
   "metadata": {},
   "outputs": [
    {
     "name": "stdout",
     "output_type": "stream",
     "text": [
      "<class 'pandas.core.frame.DataFrame'>\n",
      "RangeIndex: 693 entries, 0 to 692\n",
      "Data columns (total 6 columns):\n",
      " #   Column        Non-Null Count  Dtype \n",
      "---  ------        --------------  ----- \n",
      " 0   Vluchtnr      693 non-null    object\n",
      " 1   Airlinecode   693 non-null    object\n",
      " 2   Destcode      693 non-null    object\n",
      " 3   Planterminal  574 non-null    object\n",
      " 4   Plangate      574 non-null    object\n",
      " 5   Plantijd      574 non-null    object\n",
      "dtypes: object(6)\n",
      "memory usage: 32.6+ KB\n",
      "None\n",
      "       Vluchtnr Airlinecode Destcode Planterminal Plangate  Plantijd\n",
      "count       693         693      693          574      574       574\n",
      "unique      693          79      109            5       29       226\n",
      "top      9W2888          KL      LHR            C       A1  12:00 PM\n",
      "freq          1         126       22          178       32         8\n",
      "Vluchtnr          0\n",
      "Airlinecode       0\n",
      "Destcode          0\n",
      "Planterminal    119\n",
      "Plangate        119\n",
      "Plantijd        119\n",
      "dtype: int64\n",
      "0\n"
     ]
    },
    {
     "name": "stderr",
     "output_type": "stream",
     "text": [
      "/tmp/ipykernel_84625/997722463.py:6: UserWarning: pandas only supports SQLAlchemy connectable (engine/connection) or database string URI or sqlite3 DBAPI2 connection. Other DBAPI2 objects are not tested. Please consider using SQLAlchemy.\n",
      "  df = pd.read_sql(query, conn)\n"
     ]
    }
   ],
   "source": [
    "query = '''\n",
    "SELECT *\n",
    "FROM raw_1.planning;\n",
    "'''\n",
    "\n",
    "df = pd.read_sql(query, conn)\n",
    "\n",
    "\n",
    "print(df.info())\n",
    "print(df.describe())\n",
    "print(df.isnull().sum())\n",
    "print(df.duplicated().sum())"
   ]
  },
  {
   "cell_type": "code",
   "execution_count": 10,
   "metadata": {},
   "outputs": [
    {
     "name": "stdout",
     "output_type": "stream",
     "text": [
      "Dropped rows:\n",
      "   Vluchtnr Airlinecode Destcode Planterminal Plangate Plantijd\n",
      "80  CAL6085         CAL      BKK         None     None     None\n",
      "81  CAL6163         CAL      BKK         None     None     None\n",
      "82  CAL7069         CAL      BKK         None     None     None\n",
      "83  CAL8463         CAL      TPE         None     None     None\n",
      "84  CAL8831         CAL      TPE         None     None     None\n",
      "Cleaned DataFrame:\n",
      "  Vluchtnr Airlinecode Destcode Planterminal Plangate Plantijd\n",
      "0   9W2888          9W      DEL            D       D2  2:10 PM\n",
      "1   9W2889          9W      DEL            D       D2  3:25 PM\n",
      "2    A3598          A3      ATH            A       A6  5:10 AM\n",
      "3    A3599          A3      ATH            A       A6  5:55 AM\n",
      "4    A3600          A3      ATH            A       A6  2:45 PM\n"
     ]
    },
    {
     "name": "stderr",
     "output_type": "stream",
     "text": [
      "/tmp/ipykernel_84625/2693201063.py:6: UserWarning: pandas only supports SQLAlchemy connectable (engine/connection) or database string URI or sqlite3 DBAPI2 connection. Other DBAPI2 objects are not tested. Please consider using SQLAlchemy.\n",
      "  df_original = pd.read_sql(query, conn)\n"
     ]
    }
   ],
   "source": [
    "query = '''\n",
    "SELECT *\n",
    "FROM raw_1.planning;\n",
    "'''\n",
    "\n",
    "df_original = pd.read_sql(query, conn)\n",
    "\n",
    "df_dropped = df_original[(df_original['Planterminal'].isnull()) & (df_original['Plangate'].isnull()) & (df_original['Plantijd'].isnull())]\n",
    "\n",
    "df_cleaned = df_original.drop(df_dropped.index)\n",
    "\n",
    "print(\"Dropped rows:\")\n",
    "print(df_dropped.head())\n",
    "\n",
    "print(\"Cleaned DataFrame:\")\n",
    "print(df_cleaned.head())"
   ]
  },
  {
   "cell_type": "markdown",
   "metadata": {},
   "source": [
    "vertrek"
   ]
  },
  {
   "cell_type": "code",
   "execution_count": 11,
   "metadata": {},
   "outputs": [
    {
     "name": "stderr",
     "output_type": "stream",
     "text": [
      "/tmp/ipykernel_84625/1887319564.py:6: UserWarning: pandas only supports SQLAlchemy connectable (engine/connection) or database string URI or sqlite3 DBAPI2 connection. Other DBAPI2 objects are not tested. Please consider using SQLAlchemy.\n",
      "  df = pd.read_sql(query, conn)\n"
     ]
    },
    {
     "name": "stdout",
     "output_type": "stream",
     "text": [
      "<class 'pandas.core.frame.DataFrame'>\n",
      "RangeIndex: 386447 entries, 0 to 386446\n",
      "Data columns (total 8 columns):\n",
      " #   Column         Non-Null Count   Dtype \n",
      "---  ------         --------------   ----- \n",
      " 0   Vluchtid       386447 non-null  object\n",
      " 1   Vliegtuigcode  386447 non-null  object\n",
      " 2   Terminal       386347 non-null  object\n",
      " 3   Gate           326101 non-null  object\n",
      " 4   Baan           386445 non-null  object\n",
      " 5   Bezetting      329474 non-null  object\n",
      " 6   Vracht         49967 non-null   object\n",
      " 7   Vertrektijd    383076 non-null  object\n",
      "dtypes: object(8)\n",
      "memory usage: 23.6+ MB\n",
      "None\n",
      "       Vluchtid Vliegtuigcode Terminal    Gate    Baan Bezetting Vracht  \\\n",
      "count    386447        386447   386347  326101  386445    329474  49967   \n",
      "unique   386447           433        7      30       6        56     49   \n",
      "top      935992        VTK297        C      C1       3        86     35   \n",
      "freq          1          2922   107109   20475  210694     19269   1761   \n",
      "\n",
      "                Vertrektijd  \n",
      "count                383076  \n",
      "unique               339500  \n",
      "top     2017-08-23 15:16:00  \n",
      "freq                      6  \n",
      "Vluchtid              0\n",
      "Vliegtuigcode         0\n",
      "Terminal            100\n",
      "Gate              60346\n",
      "Baan                  2\n",
      "Bezetting         56973\n",
      "Vracht           336480\n",
      "Vertrektijd        3371\n",
      "dtype: int64\n",
      "0\n"
     ]
    }
   ],
   "source": [
    "query = '''\n",
    "SELECT *\n",
    "FROM raw_1.vertrek;\n",
    "'''\n",
    "\n",
    "df = pd.read_sql(query, conn)\n",
    "\n",
    "\n",
    "print(df.info())\n",
    "print(df.describe())\n",
    "print(df.isnull().sum())\n",
    "print(df.duplicated().sum())"
   ]
  },
  {
   "cell_type": "code",
   "execution_count": 12,
   "metadata": {},
   "outputs": [
    {
     "name": "stderr",
     "output_type": "stream",
     "text": [
      "/tmp/ipykernel_84625/161730964.py:6: UserWarning: pandas only supports SQLAlchemy connectable (engine/connection) or database string URI or sqlite3 DBAPI2 connection. Other DBAPI2 objects are not tested. Please consider using SQLAlchemy.\n",
      "  df_original = pd.read_sql(query, conn)\n"
     ]
    },
    {
     "name": "stdout",
     "output_type": "stream",
     "text": [
      "Dropped rows:\n",
      "    Vluchtid Vliegtuigcode Terminal  Gate Baan Bezetting Vracht  \\\n",
      "58    936106          VG43        G  None    6      None   None   \n",
      "59    936107          VG92        G  None    6      None   None   \n",
      "72    936139          VG28        G  None    6      None   None   \n",
      "105   936201          VG14        G  None    6      None   None   \n",
      "111   936211          VG74        G  None    6      None   None   \n",
      "\n",
      "             Vertrektijd  \n",
      "58   2014-01-01 09:13:00  \n",
      "59   2014-01-01 09:15:00  \n",
      "72   2014-01-01 10:37:00  \n",
      "105  2014-01-01 12:58:00  \n",
      "111  2014-01-01 13:15:00  \n",
      "Cleaned DataFrame:\n",
      "  Vluchtid Vliegtuigcode Terminal Gate Baan Bezetting Vracht  \\\n",
      "0   935992        VTK297        B   B5    2        69   None   \n",
      "1   935993       VDL5829        D   D5    2        78   None   \n",
      "2   935994       VSU1831        D   D3    2        85   None   \n",
      "3   935995       VEZY741        C   C4    2        54   None   \n",
      "4   935996        VKL499        C   C2    2        71   None   \n",
      "\n",
      "           Vertrektijd  \n",
      "0  2014-01-01 02:46:00  \n",
      "1  2014-01-01 02:57:00  \n",
      "2  2014-01-01 03:07:00  \n",
      "3  2014-01-01 03:33:00  \n",
      "4  2014-01-01 03:48:00  \n"
     ]
    }
   ],
   "source": [
    "query = '''\n",
    "SELECT *\n",
    "FROM raw_1.vertrek;\n",
    "'''\n",
    "\n",
    "df_original = pd.read_sql(query, conn)\n",
    "\n",
    "df_dropped = df_original[(df_original['Vracht'].isnull()) & (df_original['Bezetting'].isnull())]\n",
    "\n",
    "df_cleaned = df_original.drop(df_dropped.index)\n",
    "\n",
    "print(\"Dropped rows:\")\n",
    "print(df_dropped.head())\n",
    "\n",
    "print(\"Cleaned DataFrame:\")\n",
    "print(df_cleaned.head())"
   ]
  },
  {
   "cell_type": "markdown",
   "metadata": {},
   "source": [
    "vliegtuig"
   ]
  },
  {
   "cell_type": "code",
   "execution_count": 13,
   "metadata": {},
   "outputs": [
    {
     "name": "stdout",
     "output_type": "stream",
     "text": [
      "<class 'pandas.core.frame.DataFrame'>\n",
      "RangeIndex: 557 entries, 0 to 556\n",
      "Data columns (total 4 columns):\n",
      " #   Column         Non-Null Count  Dtype \n",
      "---  ------         --------------  ----- \n",
      " 0   Airlinecode    557 non-null    object\n",
      " 1   Vliegtuigcode  557 non-null    object\n",
      " 2   Vliegtuigtype  557 non-null    object\n",
      " 3   Bouwjaar       557 non-null    object\n",
      "dtypes: object(4)\n",
      "memory usage: 17.5+ KB\n",
      "None\n",
      "       Airlinecode Vliegtuigcode Vliegtuigtype Bouwjaar\n",
      "count          557           557           557      557\n",
      "unique          80           557            47       44\n",
      "top              -        VTK297           74Y     1983\n",
      "freq           255             1            54       21\n",
      "Airlinecode      0\n",
      "Vliegtuigcode    0\n",
      "Vliegtuigtype    0\n",
      "Bouwjaar         0\n",
      "dtype: int64\n",
      "0\n"
     ]
    },
    {
     "name": "stderr",
     "output_type": "stream",
     "text": [
      "/tmp/ipykernel_84625/3583273317.py:6: UserWarning: pandas only supports SQLAlchemy connectable (engine/connection) or database string URI or sqlite3 DBAPI2 connection. Other DBAPI2 objects are not tested. Please consider using SQLAlchemy.\n",
      "  df = pd.read_sql(query, conn)\n"
     ]
    }
   ],
   "source": [
    "query = '''\n",
    "SELECT *\n",
    "FROM raw_1.vliegtuig;\n",
    "'''\n",
    "\n",
    "df = pd.read_sql(query, conn)\n",
    "\n",
    "print(df.info())\n",
    "print(df.describe())\n",
    "print(df.isnull().sum())\n",
    "print(df.duplicated().sum())"
   ]
  },
  {
   "cell_type": "markdown",
   "metadata": {},
   "source": [
    "vliegtuigtype"
   ]
  },
  {
   "cell_type": "code",
   "execution_count": 14,
   "metadata": {},
   "outputs": [
    {
     "name": "stdout",
     "output_type": "stream",
     "text": [
      "<class 'pandas.core.frame.DataFrame'>\n",
      "RangeIndex: 327 entries, 0 to 326\n",
      "Data columns (total 8 columns):\n",
      " #   Column      Non-Null Count  Dtype \n",
      "---  ------      --------------  ----- \n",
      " 0   IATA        327 non-null    object\n",
      " 1   ICAO        264 non-null    object\n",
      " 2   Merk        319 non-null    object\n",
      " 3   Type        327 non-null    object\n",
      " 4   Wake        312 non-null    object\n",
      " 5   Cat         285 non-null    object\n",
      " 6   Capaciteit  117 non-null    object\n",
      " 7   Vracht      115 non-null    object\n",
      "dtypes: object(8)\n",
      "memory usage: 20.6+ KB\n",
      "None\n",
      "       IATA  ICAO    Merk                             Type Wake  Cat  \\\n",
      "count   327   264     319                              327  312  285   \n",
      "unique  327   186      47                              326    4    6   \n",
      "top     100  DC10  Boeing  BAe 146 Freighter (-200QT & QC)    M  Pax   \n",
      "freq      1     7      66                                2  168  163   \n",
      "\n",
      "       Capaciteit Vracht  \n",
      "count         117    115  \n",
      "unique         55     21  \n",
      "top             0      8  \n",
      "freq           15     36  \n",
      "IATA            0\n",
      "ICAO           63\n",
      "Merk            8\n",
      "Type            0\n",
      "Wake           15\n",
      "Cat            42\n",
      "Capaciteit    210\n",
      "Vracht        212\n",
      "dtype: int64\n",
      "0\n"
     ]
    },
    {
     "name": "stderr",
     "output_type": "stream",
     "text": [
      "/tmp/ipykernel_84625/3780369025.py:6: UserWarning: pandas only supports SQLAlchemy connectable (engine/connection) or database string URI or sqlite3 DBAPI2 connection. Other DBAPI2 objects are not tested. Please consider using SQLAlchemy.\n",
      "  df = pd.read_sql(query, conn)\n"
     ]
    }
   ],
   "source": [
    "query = '''\n",
    "SELECT *\n",
    "FROM raw_1.vliegtuigtype;\n",
    "'''\n",
    "\n",
    "df = pd.read_sql(query, conn)\n",
    "\n",
    "print(df.info())\n",
    "print(df.describe())\n",
    "print(df.isnull().sum())\n",
    "print(df.duplicated().sum())"
   ]
  },
  {
   "cell_type": "markdown",
   "metadata": {},
   "source": [
    "vlucht"
   ]
  },
  {
   "cell_type": "code",
   "execution_count": 15,
   "metadata": {},
   "outputs": [
    {
     "name": "stderr",
     "output_type": "stream",
     "text": [
      "/tmp/ipykernel_84625/250393908.py:6: UserWarning: pandas only supports SQLAlchemy connectable (engine/connection) or database string URI or sqlite3 DBAPI2 connection. Other DBAPI2 objects are not tested. Please consider using SQLAlchemy.\n",
      "  df = pd.read_sql(query, conn)\n"
     ]
    },
    {
     "name": "stdout",
     "output_type": "stream",
     "text": [
      "<class 'pandas.core.frame.DataFrame'>\n",
      "RangeIndex: 772512 entries, 0 to 772511\n",
      "Data columns (total 6 columns):\n",
      " #   Column         Non-Null Count   Dtype \n",
      "---  ------         --------------   ----- \n",
      " 0   Vluchtid       772512 non-null  object\n",
      " 1   Vluchtnr       758887 non-null  object\n",
      " 2   Airlinecode    772512 non-null  object\n",
      " 3   Destcode       772512 non-null  object\n",
      " 4   Vliegtuigcode  772512 non-null  object\n",
      " 5   Datum          772512 non-null  object\n",
      "dtypes: object(6)\n",
      "memory usage: 35.4+ MB\n",
      "None\n",
      "       Vluchtid Vluchtnr Airlinecode Destcode Vliegtuigcode       Datum\n",
      "count    772512   758887      772512   772512        772512      772512\n",
      "unique   772512      693          80      115           557        1462\n",
      "top      935992    TK297          KL      LHR        VTK297  2017-08-16\n",
      "freq          1     1461      150969    28820          5844         656\n",
      "Vluchtid             0\n",
      "Vluchtnr         13625\n",
      "Airlinecode          0\n",
      "Destcode             0\n",
      "Vliegtuigcode        0\n",
      "Datum                0\n",
      "dtype: int64\n",
      "0\n"
     ]
    }
   ],
   "source": [
    "query = '''\n",
    "SELECT *\n",
    "FROM raw_1.vlucht;\n",
    "'''\n",
    "\n",
    "df = pd.read_sql(query, conn)\n",
    "\n",
    "print(df.info())\n",
    "print(df.describe())\n",
    "print(df.isnull().sum())\n",
    "print(df.duplicated().sum())"
   ]
  },
  {
   "cell_type": "markdown",
   "metadata": {},
   "source": [
    "weer"
   ]
  },
  {
   "cell_type": "code",
   "execution_count": 16,
   "metadata": {},
   "outputs": [
    {
     "name": "stdout",
     "output_type": "stream",
     "text": [
      "<class 'pandas.core.frame.DataFrame'>\n",
      "RangeIndex: 1461 entries, 0 to 1460\n",
      "Data columns (total 40 columns):\n",
      " #   Column  Non-Null Count  Dtype \n",
      "---  ------  --------------  ----- \n",
      " 0   Datum   1461 non-null   object\n",
      " 1   DDVEC   1461 non-null   object\n",
      " 2   FHVEC   1461 non-null   object\n",
      " 3   FG      1461 non-null   object\n",
      " 4   FHX     1461 non-null   object\n",
      " 5   FHXH    1461 non-null   object\n",
      " 6   FHN     1461 non-null   object\n",
      " 7   FHNH    1461 non-null   object\n",
      " 8   FXX     1461 non-null   object\n",
      " 9   FXXH    1461 non-null   object\n",
      " 10  TG      1461 non-null   object\n",
      " 11  TN      1461 non-null   object\n",
      " 12  TNH     1461 non-null   object\n",
      " 13  TX      1461 non-null   object\n",
      " 14  TXH     1461 non-null   object\n",
      " 15  T10N    1461 non-null   object\n",
      " 16  T10NH   1461 non-null   object\n",
      " 17  SQ      1461 non-null   object\n",
      " 18  SP      1461 non-null   object\n",
      " 19  Q       1461 non-null   object\n",
      " 20  DR      1461 non-null   object\n",
      " 21  RH      1461 non-null   object\n",
      " 22  RHX     1461 non-null   object\n",
      " 23  RHXH    1461 non-null   object\n",
      " 24  PG      1461 non-null   object\n",
      " 25  PX      1461 non-null   object\n",
      " 26  PXH     1461 non-null   object\n",
      " 27  PN      1461 non-null   object\n",
      " 28  PNH     1461 non-null   object\n",
      " 29  VVN     1461 non-null   object\n",
      " 30  VVNH    1461 non-null   object\n",
      " 31  VVX     1461 non-null   object\n",
      " 32  VVXH    1461 non-null   object\n",
      " 33  NG      1461 non-null   object\n",
      " 34  UG      1461 non-null   object\n",
      " 35  UX      1461 non-null   object\n",
      " 36  UXH     1461 non-null   object\n",
      " 37  UN      1461 non-null   object\n",
      " 38  UNH     1461 non-null   object\n",
      " 39  EV2     1461 non-null   object\n",
      "dtypes: object(40)\n",
      "memory usage: 456.7+ KB\n",
      "None\n",
      "             Datum DDVEC FHVEC    FG   FHX  FHXH   FHN  FHNH   FXX  FXXH  ...  \\\n",
      "count         1461  1461  1461  1461  1461  1461  1461  1461  1461  1461  ...   \n",
      "unique        1461   344    83    82    14    24    10    24    23    24  ...   \n",
      "top     2014-01-01   224    26    25    50    12    10     1   100    12  ...   \n",
      "freq             1    17    46    66   347   154   628   450   178   164  ...   \n",
      "\n",
      "        VVNH   VVX  VVXH    NG    UG    UX   UXH    UN   UNH   EV2  \n",
      "count   1461  1461  1461  1461  1461  1461  1461  1461  1461  1461  \n",
      "unique    24    44    24     9    57    39    24    77    24    55  \n",
      "top        1    75    13     8    83    98     1    56    14     2  \n",
      "freq     188   234   166   332    70   286   295    40   282   138  \n",
      "\n",
      "[4 rows x 40 columns]\n",
      "Datum    0\n",
      "DDVEC    0\n",
      "FHVEC    0\n",
      "FG       0\n",
      "FHX      0\n",
      "FHXH     0\n",
      "FHN      0\n",
      "FHNH     0\n",
      "FXX      0\n",
      "FXXH     0\n",
      "TG       0\n",
      "TN       0\n",
      "TNH      0\n",
      "TX       0\n",
      "TXH      0\n",
      "T10N     0\n",
      "T10NH    0\n",
      "SQ       0\n",
      "SP       0\n",
      "Q        0\n",
      "DR       0\n",
      "RH       0\n",
      "RHX      0\n",
      "RHXH     0\n",
      "PG       0\n",
      "PX       0\n",
      "PXH      0\n",
      "PN       0\n",
      "PNH      0\n",
      "VVN      0\n",
      "VVNH     0\n",
      "VVX      0\n",
      "VVXH     0\n",
      "NG       0\n",
      "UG       0\n",
      "UX       0\n",
      "UXH      0\n",
      "UN       0\n",
      "UNH      0\n",
      "EV2      0\n",
      "dtype: int64\n",
      "0\n"
     ]
    },
    {
     "name": "stderr",
     "output_type": "stream",
     "text": [
      "/tmp/ipykernel_84625/335375757.py:6: UserWarning: pandas only supports SQLAlchemy connectable (engine/connection) or database string URI or sqlite3 DBAPI2 connection. Other DBAPI2 objects are not tested. Please consider using SQLAlchemy.\n",
      "  df = pd.read_sql(query, conn)\n"
     ]
    }
   ],
   "source": [
    "query = '''\n",
    "SELECT *\n",
    "FROM raw_1.weer;\n",
    "'''\n",
    "\n",
    "df = pd.read_sql(query, conn)\n",
    "\n",
    "print(df.info())\n",
    "print(df.describe())\n",
    "print(df.isnull().sum())\n",
    "print(df.duplicated().sum())"
   ]
  },
  {
   "cell_type": "code",
   "execution_count": 71,
   "metadata": {},
   "outputs": [
    {
     "name": "stderr",
     "output_type": "stream",
     "text": [
      "/tmp/ipykernel_84625/2470613425.py:82: UserWarning: pandas only supports SQLAlchemy connectable (engine/connection) or database string URI or sqlite3 DBAPI2 connection. Other DBAPI2 objects are not tested. Please consider using SQLAlchemy.\n",
      "  df = pd.read_sql(query, conn)\n"
     ]
    },
    {
     "name": "stdout",
     "output_type": "stream",
     "text": [
      "   Vluchtid Vluchtnr Vliegtuigcode Vliegtuigtype  Bouwjaar Terminal Gate  \\\n",
      "0    935992    TK297        VTK297           321    1970.0        B   B5   \n",
      "1    935993   DL5829       VDL5829           320    2007.0        D   D5   \n",
      "2    935994   SU1831       VSU1831           321    2012.0        D   D3   \n",
      "3    935995   EZY741       VEZY741           738    1978.0        C   C4   \n",
      "4    935996    KL500        VKL499           738    1982.0        C   C2   \n",
      "\n",
      "   Baan  Bezetting  Vracht     Type  Plantijd                Tijd Airlinecode  \\\n",
      "0   2.0       69.0     NaN  vertrek  02:25:00 2014-01-01 02:46:00          TK   \n",
      "1   2.0       78.0     NaN  vertrek  02:15:00 2014-01-01 02:57:00          DL   \n",
      "2   2.0       85.0     NaN  vertrek  02:25:00 2014-01-01 03:07:00          SU   \n",
      "3   2.0       54.0     NaN  vertrek  03:05:00 2014-01-01 03:33:00         EZY   \n",
      "4   2.0       71.0     NaN  vertrek  03:40:00 2014-01-01 03:48:00          KL   \n",
      "\n",
      "  Destcode       Datum  \n",
      "0      ESB  2014-01-01  \n",
      "1      DTW  2014-01-01  \n",
      "2      SVO  2014-01-01  \n",
      "3      ACE  2014-01-01  \n",
      "4      VIE  2014-01-01  \n",
      "---------------------------------\n",
      "<class 'pandas.core.frame.DataFrame'>\n",
      "RangeIndex: 772513 entries, 0 to 772512\n",
      "Data columns (total 16 columns):\n",
      " #   Column         Non-Null Count   Dtype         \n",
      "---  ------         --------------   -----         \n",
      " 0   Vluchtid       772513 non-null  int64         \n",
      " 1   Vluchtnr       758887 non-null  object        \n",
      " 2   Vliegtuigcode  772512 non-null  object        \n",
      " 3   Vliegtuigtype  772512 non-null  object        \n",
      " 4   Bouwjaar       772512 non-null  float64       \n",
      " 5   Terminal       758683 non-null  object        \n",
      " 6   Gate           652201 non-null  object        \n",
      " 7   Baan           758879 non-null  float64       \n",
      " 8   Bezetting      658949 non-null  float64       \n",
      " 9   Vracht         99934 non-null   float64       \n",
      " 10  Type           758883 non-null  object        \n",
      " 11  Plantijd       658945 non-null  object        \n",
      " 12  Tijd           752139 non-null  datetime64[ns]\n",
      " 13  Airlinecode    772512 non-null  object        \n",
      " 14  Destcode       772512 non-null  object        \n",
      " 15  Datum          772512 non-null  object        \n",
      "dtypes: datetime64[ns](1), float64(4), int64(1), object(10)\n",
      "memory usage: 94.3+ MB\n",
      "None\n",
      "           Vluchtid       Bouwjaar           Baan      Bezetting  \\\n",
      "count  7.725130e+05  772512.000000  758879.000000  658949.000000   \n",
      "mean   1.322375e+06    1990.358216       3.169022      82.555865   \n",
      "min    9.359920e+05    1970.000000       1.000000      45.000000   \n",
      "25%    1.129120e+06    1980.000000       2.000000      77.000000   \n",
      "50%    1.322248e+06    1989.000000       3.000000      84.000000   \n",
      "75%    1.515376e+06    2001.000000       4.000000      89.000000   \n",
      "max    1.000000e+08    2013.000000       5.000000     100.000000   \n",
      "std    2.496717e+05      13.008838       1.198586       9.222820   \n",
      "\n",
      "             Vracht                           Tijd  \n",
      "count  99934.000000                         752139  \n",
      "mean      44.116417  2016-01-27 11:21:36.473896704  \n",
      "min       21.000000            2014-01-01 02:46:00  \n",
      "25%       35.000000            2015-02-06 11:27:30  \n",
      "50%       44.000000            2016-02-12 16:44:00  \n",
      "75%       53.000000            2017-01-26 20:58:00  \n",
      "max       69.000000            2018-01-01 00:19:00  \n",
      "std       10.556779                            NaN  \n",
      "Vluchtid              0\n",
      "Vluchtnr          13626\n",
      "Vliegtuigcode         1\n",
      "Vliegtuigtype         1\n",
      "Bouwjaar              1\n",
      "Terminal          13830\n",
      "Gate             120312\n",
      "Baan              13634\n",
      "Bezetting        113564\n",
      "Vracht           672579\n",
      "Type              13630\n",
      "Plantijd         113568\n",
      "Tijd              20374\n",
      "Airlinecode           1\n",
      "Destcode              1\n",
      "Datum                 1\n",
      "dtype: int64\n",
      "0\n"
     ]
    }
   ],
   "source": [
    "query = '''\n",
    "SELECT \n",
    "t1.\"Vluchtid\",\n",
    "t1.\"Vluchtnr\",\n",
    "t1.\"Vliegtuigcode\",\n",
    "l.\"Vliegtuigtype\",\n",
    "l.\"Bouwjaar\",\n",
    "t1.\"Terminal\",\n",
    "t1.\"Gate\",\n",
    "t1.\"Baan\",\n",
    "t1.\"Bezetting\",\n",
    "t1.\"Vracht\",\n",
    "t1.\"Type\",\n",
    "p.\"Plantijd\",\n",
    "t1.\"Tijd\",\n",
    "t1.\"Airlinecode\",\n",
    "t1.\"Destcode\",\n",
    "t1.\"Datum\"\n",
    "FROM\n",
    "(SELECT\n",
    "\"Vluchtid\",\n",
    "MAX(\"Vluchtnr\") AS \"Vluchtnr\",\n",
    "MAX(\"Vliegtuigcode\") AS \"Vliegtuigcode\",\n",
    "MAX(\"Terminal\") AS \"Terminal\",\n",
    "MAX(\"Gate\") AS \"Gate\",\n",
    "MAX(\"Baan\") AS \"Baan\",\n",
    "MAX(\"Bezetting\") AS \"Bezetting\",\n",
    "MAX(\"Vracht\") AS \"Vracht\",\n",
    "MAX(\"Type\") AS \"Type\",\n",
    "MAX(\"Tijd\") AS \"Tijd\",\n",
    "MAX(\"Airlinecode\") AS \"Airlinecode\",\n",
    "MAX(\"Destcode\") AS \"Destcode\",\n",
    "MAX(\"Datum\") AS \"Datum\"\n",
    "FROM\n",
    "(SELECT\n",
    "\"Vluchtid\",\n",
    "NULL AS \"Vluchtnr\",\n",
    "NULL AS \"Vliegtuigcode\",\n",
    "\"Terminal\",\n",
    "\"Gate\",\n",
    "\"Baan\",\n",
    "\"Bezetting\",\n",
    "\"Vracht\",\n",
    "\"Type\",\n",
    "\"Tijd\",\n",
    "NULL AS \"Airlinecode\",\n",
    "NULL AS \"Destcode\",\n",
    "NULL AS \"Datum\"\n",
    "FROM\n",
    "(SELECT \"Vluchtid\",\"Vliegtuigcode\",\"Terminal\",\"Gate\",\"Baan\",\"Bezetting\",\"Vracht\", 'aankomst' AS \"Type\", \"Aankomsttijd\" As \"Tijd\"\n",
    "FROM cleansed.aankomst \n",
    "UNION\n",
    "SELECT \"Vluchtid\",\"Vliegtuigcode\",\"Terminal\",\"Gate\",\"Baan\",\"Bezetting\",\"Vracht\", 'vertrek' AS \"Type\", \"Vertrektijd\" As \"Tijd\"\n",
    "FROM cleansed.vertrek) AS combined\n",
    "UNION\n",
    "SELECT\n",
    "\"Vluchtid\",\n",
    "\"Vluchtnr\",\n",
    "\"Vliegtuigcode\",\n",
    "NULL AS \"Terminal\",\n",
    "NULL AS \"Gate\",\n",
    "NULL AS \"Baan\",\n",
    "NULL AS \"Bezetting\",\n",
    "NULL AS \"Vracht\",\n",
    "NULL AS \"Type\",\n",
    "NULL AS \"Tijd\",\n",
    "\"Airlinecode\",\n",
    "\"Destcode\",\n",
    "\"Datum\"\n",
    "FROM\n",
    "cleansed.vlucht v) AS doublescheme\n",
    "GROUP BY \"Vluchtid\") t1\n",
    "LEFT JOIN\n",
    "cleansed.vliegtuig l\n",
    "ON\n",
    "t1.\"Vliegtuigcode\" = l.\"Vliegtuigcode\"\n",
    "LEFT JOIN\n",
    "cleansed.planning p\n",
    "ON\n",
    "t1.\"Vluchtnr\" = p.\"Vluchtnr\";\n",
    "'''\n",
    "df = pd.read_sql(query, conn)\n",
    "\n",
    "print(df.head())\n",
    "print(\"---------------------------------\") # 758883  772512 \n",
    "print(df.info())\n",
    "print(df.describe())\n",
    "print(df.isnull().sum())\n",
    "print(df.duplicated().sum())\n"
   ]
  },
  {
   "cell_type": "code",
   "execution_count": 18,
   "metadata": {},
   "outputs": [
    {
     "name": "stderr",
     "output_type": "stream",
     "text": [
      "/tmp/ipykernel_84625/3998791869.py:2: UserWarning: pandas only supports SQLAlchemy connectable (engine/connection) or database string URI or sqlite3 DBAPI2 connection. Other DBAPI2 objects are not tested. Please consider using SQLAlchemy.\n",
      "  airlines_dim = pd.read_sql('SELECT * from cleansed.maatschappijen',conn)\n"
     ]
    },
    {
     "name": "stdout",
     "output_type": "stream",
     "text": [
      "fact--------------------------\n",
      "   Vluchtid Vluchtnr Vliegtuigcode Vliegtuigtype  Bouwjaar Terminal Gate  \\\n",
      "0    936018    A3598        VA3599           320    2000.0        A   A6   \n",
      "1    936024    HV573        VHV573           763    1971.0        A   A2   \n",
      "2    936027    A3599        VA3599           320    2000.0        A   A6   \n",
      "3    936028    FR454        VFR455           332    2000.0        A   A1   \n",
      "4    936032   KL5715       VKL5715           772    1988.0        E   E1   \n",
      "\n",
      "   Baan  Bezetting  Vracht      type  Plantijd                tijd  \\\n",
      "0   1.0       61.0     NaN  aankomst  05:10:00 2014-01-01 05:35:00   \n",
      "1   1.0       63.0     NaN  aankomst  05:40:00 2014-01-01 06:01:00   \n",
      "2   2.0       59.0     NaN   vertrek  05:55:00 2014-01-01 06:15:00   \n",
      "3   1.0       57.0     NaN  aankomst  06:05:00 2014-01-01 06:16:00   \n",
      "4   1.0       72.0     NaN  aankomst  05:50:00 2014-01-01 06:28:00   \n",
      "\n",
      "  Airlinecode Destcode       Datum              Airline_name  \n",
      "0          A3      ATH  2014-01-01           Aegean Airlines  \n",
      "1          HV      LIS  2014-01-01         Transavia Holland  \n",
      "2          A3      ATH  2014-01-01           Aegean Airlines  \n",
      "3          FR      LIS  2014-01-01                   Ryanair  \n",
      "4          KL      DAR  2014-01-01  KLM Royal Dutch Airlines  \n"
     ]
    }
   ],
   "source": [
    "fact_table = df\n",
    "airlines_dim = pd.read_sql('SELECT * from cleansed.maatschappijen',conn)\n",
    "mapping_table = airlines_dim[['IATA', 'ICAO', 'Name']]\n",
    "fact_table = pd.merge(fact_table, mapping_table, left_on='Airlinecode', right_on='IATA', how='left')\n",
    "fact_table = pd.merge(fact_table, mapping_table, left_on='Airlinecode', right_on='ICAO', how='left', suffixes=('_IATA', '_ICAO'))\n",
    "fact_table['Name'] = fact_table['Name_IATA'].fillna(fact_table['Name_ICAO'])\n",
    "fact_table.drop(['Name_IATA', 'Name_ICAO','IATA_IATA','ICAO_IATA','IATA_ICAO','ICAO_ICAO'], axis=1, inplace=True)\n",
    "fact_table.rename(columns={'Name': 'Airline_name'}, inplace=True)\n",
    "\n",
    "print(\"fact--------------------------\")\n",
    "print(fact_table.head())"
   ]
  }
 ],
 "metadata": {
  "kernelspec": {
   "display_name": "Python 3",
   "language": "python",
   "name": "python3"
  },
  "language_info": {
   "codemirror_mode": {
    "name": "ipython",
    "version": 3
   },
   "file_extension": ".py",
   "mimetype": "text/x-python",
   "name": "python",
   "nbconvert_exporter": "python",
   "pygments_lexer": "ipython3",
   "version": "3.12.2"
  }
 },
 "nbformat": 4,
 "nbformat_minor": 2
}
